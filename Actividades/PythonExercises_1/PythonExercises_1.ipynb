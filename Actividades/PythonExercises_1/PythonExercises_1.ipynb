{
  "nbformat": 4,
  "nbformat_minor": 0,
  "metadata": {
    "colab": {
      "provenance": []
    },
    "kernelspec": {
      "name": "python3",
      "display_name": "Python 3"
    },
    "language_info": {
      "name": "python"
    }
  },
  "cells": [
    {
      "cell_type": "markdown",
      "source": [
        "# Alumno: Gerardo Lopez Oseguera\n",
        "## Matricula : 1143867\n",
        "## Classs Artificial Intelligence IB\n",
        "### Hour: N4-N6 Tuesday"
      ],
      "metadata": {
        "id": "WUwMI-UlMt0M"
      }
    },
    {
      "cell_type": "markdown",
      "source": [
        "# Acitivity 2 Python Exercises\n",
        "\n",
        "# 1.- Develop a algorithm that can make the converision from decimal to binary systme\n",
        "\n",
        "a) In order to do the algorithm  we creat a function  call \"decimal_to_binary\" this  will take a decimal number as input and returns its binary representation\n",
        "\n",
        "b) First in the funtion we create a variable (\"binary\") to store the binary  representaion of the decimal numbers \n",
        "\n",
        "c) Then we creat 2 loops while. The first is use to calculate the binary number of the  decimal number only is mayor to 0, then divide the number by 2 and call the function again with the result of the division. This step is repeated until the number is 1 or 0.\n",
        "Print the remainder of the division between the number and 2. The remainder will always be 0 or 1, which represents a binary digit. At the end of the successive division process, the printed remainders represent the binary number equivalent to the original decimal number.\n",
        "\n",
        "Example:\n",
        "\n",
        "Suppose we want to convert the decimal number 10 to binary.\n",
        "\n",
        "10 is greater than 1, so we divide it by 2: 10 / 2 = 5.\n",
        "\n",
        "5 is greater than 1, then we divide it by 2: 5 / 2 = 2 with a remainder of 1. We print the remainder (1).\n",
        "\n",
        "2 is greater than 1, then we divide by 2: 2 / 2 = 1 with a remainder of 0. We print the remainder (0).\n",
        "\n",
        "1 is equal to 1, then we do not divide any more and simply print the remainder (1).\n",
        "\n",
        "The printed remainder is 1010, which is the binary number equivalent to 10 in decimal.\n",
        "\n",
        "d) The secon loop while  is to check length if less then 8 will agregate 0 + binary number from the previous loop\n",
        "\n",
        "Finally we call the input for the number to be represented and then we call the function and we print the result\n"
      ],
      "metadata": {
        "id": "dmQYNSrC_3bF"
      }
    },
    {
      "cell_type": "code",
      "source": [
        "def decimal_to_binary(decimal):\n",
        "    binary = ''\n",
        "    while decimal > 0:\n",
        "        binary = str(decimal % 2) + binary\n",
        "        decimal = decimal // 2\n",
        "    while len(binary) < 8:\n",
        "        binary = '0' + binary\n",
        "    return binary\n",
        "\n",
        "decimal = int(input(\"Enter a decimal number between 0 and 255: \"))\n",
        "binary = decimal_to_binary(decimal)\n",
        "print(\"Binary representation:\", binary)"
      ],
      "metadata": {
        "colab": {
          "base_uri": "https://localhost:8080/"
        },
        "id": "OiVCbgUMJ8u4",
        "outputId": "139a0941-259e-4e3f-fc75-9db5d3cb5379"
      },
      "execution_count": null,
      "outputs": [
        {
          "output_type": "stream",
          "name": "stdout",
          "text": [
            "Enter a decimal number between 0 and 255: 10\n",
            "Binary representation: 00001010\n"
          ]
        }
      ]
    },
    {
      "cell_type": "markdown",
      "source": [
        "# 2.- Math Pyramid: This algorithm will create a math pyramid from an initial list of integers. An example of the final result will look like this: \n",
        "\n",
        "initial list = [20, 5, 10, 8]\n",
        "\n",
        "final result:  20, 5, 10, 8\n",
        "                      25,15,18\n",
        "                        40,33\n",
        "                           73\n",
        "\n",
        "For this algorithm  we need to do more functions as following :\n",
        "\n",
        "First the function math_pyramid(numbers) takes a list of integers as input and returns the final result of the math pyramid.\n",
        "\n",
        "a) The while loop is used to iteratively combine the elements of the numbers list into a single result.\n",
        "\n",
        "b) The new_numbers list is used to store the intermediate results of the math pyramid. It starts as an empty list.\n",
        "\n",
        "c) The for loop is used to iterate through the numbers list and add each pair of consecutive elements together. The sum of the pair is appended to the new_numbers list.\n",
        "\n",
        "d) The numbers list is updated with the new_numbers list, which becomes the input for the next iteration of the while loop.\n",
        "When the length of the numbers list is 1, the while loop stops, and the final result is returned.\n",
        "\n",
        "The  second print_math_pyramid(numbers) function is similar to the math_pyramid(numbers) function, but it also prints the intermediate results of the math pyramid.\n",
        "\n",
        "a)The initial_list variable stores the initial list of integers.\n",
        "\n",
        "b) The final result of the math pyramid is obtained by calling the math_pyramid(initial_list) function and storing the result in the result variable.\n",
        "\n",
        "The final result is printed to the console.\n",
        "The print_math_pyramid(initial_list) function is called to print the intermediate results of the math pyramid."
      ],
      "metadata": {
        "id": "BLEkxRu9KMzg"
      }
    },
    {
      "cell_type": "code",
      "source": [
        "def math_pyramid(numbers):\n",
        "    while len(numbers) > 1:\n",
        "        new_numbers = []\n",
        "        for i in range(0, len(numbers) - 1):\n",
        "            new_numbers.append(numbers[i] + numbers[i + 1])\n",
        "        numbers = new_numbers\n",
        "    return numbers[0]\n",
        "\n",
        "def print_math_pyramid(numbers):\n",
        "    while len(numbers) > 1:\n",
        "        new_numbers = []\n",
        "        for i in range(0, len(numbers) - 1):\n",
        "            new_numbers.append(numbers[i] + numbers[i + 1])\n",
        "        numbers = new_numbers\n",
        "        print(numbers)\n",
        "\n",
        "initial_list = [20, 5, 10, 8, 30]\n",
        "result = math_pyramid(initial_list)\n",
        "print(\"Final result:\", result)\n",
        "\n",
        "print_math_pyramid(initial_list)"
      ],
      "metadata": {
        "colab": {
          "base_uri": "https://localhost:8080/"
        },
        "id": "v8k-zaOmMlMY",
        "outputId": "57ceab4c-984d-4f7f-d160-5cb7861612b9"
      },
      "execution_count": null,
      "outputs": [
        {
          "output_type": "stream",
          "name": "stdout",
          "text": [
            "Final result: 162\n",
            "[25, 15, 18, 38]\n",
            "[40, 33, 56]\n",
            "[73, 89]\n",
            "[162]\n"
          ]
        }
      ]
    }
  ]
}