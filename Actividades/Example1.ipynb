{
  "nbformat": 4,
  "nbformat_minor": 0,
  "metadata": {
    "colab": {
      "provenance": []
    },
    "kernelspec": {
      "name": "python3",
      "display_name": "Python 3"
    },
    "language_info": {
      "name": "python"
    }
  },
  "cells": [
    {
      "cell_type": "code",
      "execution_count": null,
      "metadata": {
        "id": "TwcHiZT2H30e"
      },
      "outputs": [],
      "source": []
    },
    {
      "cell_type": "markdown",
      "source": [],
      "metadata": {
        "id": "ZU_WE405Iq5z"
      }
    },
    {
      "cell_type": "code",
      "source": [
        "print(\"Hello world!\")"
      ],
      "metadata": {
        "colab": {
          "base_uri": "https://localhost:8080/"
        },
        "id": "Isn5Z5E2It7k",
        "outputId": "c1543b08-f4ca-48d8-b07a-8741ea3be349"
      },
      "execution_count": 1,
      "outputs": [
        {
          "output_type": "stream",
          "name": "stdout",
          "text": [
            "Hello world!\n"
          ]
        }
      ]
    },
    {
      "cell_type": "markdown",
      "source": [
        "# **Python Indroduction**\n",
        "\n",
        "In this notbook we will lear basic concepts and fuctions in Python\n",
        "\n",
        "\n",
        "\n",
        "```\n",
        "Print (\"Hello World!\")\n",
        "```\n",
        "\n"
      ],
      "metadata": {
        "id": "3wdA_7FcI4Lv"
      }
    }
  ]
}